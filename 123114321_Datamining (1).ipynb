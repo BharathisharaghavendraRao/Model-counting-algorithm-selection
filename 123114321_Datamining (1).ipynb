{
  "cells": [
    {
      "cell_type": "markdown",
      "metadata": {
        "id": "8WfrCFmLHxYu"
      },
      "source": [
        "# CS3033/CS6405 - Data Mining - Second Assignment\n",
        "\n",
        "### Submission\n",
        "\n",
        "This assignment is **due on 14/04/24 at 23:59**. You should submit a single .ipnyb file with your python code and analysis electronically via Canvas.\n",
        "Please note that this assignment will account for 25 Marks of your module grade.\n",
        "\n",
        "### Declaration\n",
        "\n",
        "By submitting this assignment. I agree to the following:\n",
        "\n",
        "<font color=\"red\">“I have read and understand the UCC academic policy on plagiarism, and agree to the requirements set out thereby in relation to plagiarism and referencing. I confirm that I have referenced and acknowledged properly all sources used in the preparation of this assignment.\n",
        "I declare that this assignment is entirely my own work based on my personal study. I further declare that I have not engaged the services of another to either assist me in, or complete this assignment”</font>\n",
        "\n",
        "### Objective\n",
        "\n",
        "The Boolean satisfiability (SAT) problem consists in determining whether a Boolean formula is satisfiable or not. This problem is one of the most widely studied combinatorial problems in computer science. It is the classic NP-complete problem. Over the past number of decades, a significant amount of research work has focused on solving SAT problems with both complete and incomplete solvers.\n",
        "\n",
        "An extended version of the problem is Model Counting (#SAT). In #SAT the solver needs to compute the number of solutions of a Boolean formula. A wide variety of solvers have been designed to tackle this problem.\n",
        "\n",
        "In this project, we want to create an Algorithm Selection (AS) approach to Model Counting. For each #SAT instance, there is a specific solver that works better than the others, the goal of your machine learing approach is to classify it.\n",
        "\n",
        "In AS we represent #SAT problems with a vector of 72 features with general information about the problem, e.g., number of variables, number of clauses, etc. There is no need to understand the features to be able to complete the assignment. For each instance, there is a 'label' column representing the name of the optimal solver.\n",
        "\n",
        "\n",
        "The original dataset is available at:\n",
        "https://github.com/andvise/DM_Assignment/blob/main/train_data.csv\n",
        "\n"
      ]
    },
    {
      "cell_type": "markdown",
      "metadata": {
        "id": "Oav9G1WSJ1nH"
      },
      "source": [
        "## Data Preparation"
      ]
    },
    {
      "cell_type": "code",
      "execution_count": 36,
      "metadata": {
        "colab": {
          "base_uri": "https://localhost:8080/",
          "height": 443
        },
        "id": "DE0kM0QsJ1En",
        "outputId": "9047c456-ca90-4094-e90c-0afab588fb08"
      },
      "outputs": [
        {
          "output_type": "execute_result",
          "data": {
            "text/plain": [
              "           c       v  clauses_vars_ratio  vars_clauses_ratio  vcg_var_mean  \\\n",
              "0      681.0   238.0            2.861345            0.349486      0.011143   \n",
              "1      368.0   140.0            2.628571            0.380435      0.018012   \n",
              "2     1935.0  1920.0            1.007812            0.992248      0.001760   \n",
              "3     3452.0  2821.0            1.223680            0.817207      0.000968   \n",
              "4      694.0   294.0            2.360544            0.423631      0.007656   \n",
              "...      ...     ...                 ...                 ...           ...   \n",
              "1331   949.0   351.0            2.703704            0.369863      0.006701   \n",
              "1332  1450.0   608.0            2.384868            0.419310      0.004427   \n",
              "1333   250.0   100.0            2.500000            0.400000      0.026000   \n",
              "1334  4949.0  3422.0            1.446230            0.691453      0.000764   \n",
              "1335   280.0   120.0            2.333333            0.428571      0.018442   \n",
              "\n",
              "      vcg_var_coeff  vcg_var_min  vcg_var_max  vcg_var_entropy  \\\n",
              "0          0.905300     0.005874     0.111601         1.880038   \n",
              "1          0.510753     0.005435     0.054348         1.851609   \n",
              "2          1.723720     0.000000     0.012403         1.280404   \n",
              "3          1.436774     0.000290     0.006083         1.192878   \n",
              "4          0.493513     0.002882     0.040346         1.776102   \n",
              "...             ...          ...          ...              ...   \n",
              "1331       1.151888     0.002012     0.063380         1.857919   \n",
              "1332       1.552830     0.002408     0.161349         1.659495   \n",
              "1333       0.555766     0.000000     0.096000         1.751533   \n",
              "1334       0.770643     0.000202     0.004445         1.835041   \n",
              "1335       0.490373     0.000000     0.045198         1.773180   \n",
              "\n",
              "      vcg_clause_mean  ...  gsat_FirstLocalMinStep_CoeffVariance  \\\n",
              "0            0.011143  ...                              0.210148   \n",
              "1            0.018012  ...                              0.124438   \n",
              "2            0.001760  ...                              0.066708   \n",
              "3            0.000968  ...                              0.053628   \n",
              "4            0.007656  ...                              0.086841   \n",
              "...               ...  ...                                   ...   \n",
              "1331         0.006701  ...                              0.079108   \n",
              "1332         0.004427  ...                              0.062664   \n",
              "1333         0.026000  ...                              0.140708   \n",
              "1334         0.000764  ...                              0.032571   \n",
              "1335         0.018442  ...                              0.120101   \n",
              "\n",
              "      gsat_FirstLocalMinStep_Median  gsat_FirstLocalMinStep_Q.10  \\\n",
              "0                              50.0                         42.0   \n",
              "1                              34.0                         29.0   \n",
              "2                             102.0                         94.0   \n",
              "3                             192.0                        179.0   \n",
              "4                              72.0                         64.0   \n",
              "...                             ...                          ...   \n",
              "1331                           81.0                         73.0   \n",
              "1332                          136.0                        125.0   \n",
              "1333                           26.0                         21.0   \n",
              "1334                          461.0                        441.0   \n",
              "1335                           35.0                         30.0   \n",
              "\n",
              "      gsat_FirstLocalMinStep_Q.90  gsat_BestAvgImprovement_Mean  \\\n",
              "0                            57.0                      0.954568   \n",
              "1                            40.0                      1.693036   \n",
              "2                           111.0                      0.398129   \n",
              "3                           205.0                      0.247528   \n",
              "4                            80.0                      0.822829   \n",
              "...                           ...                           ...   \n",
              "1331                         89.0                      0.781888   \n",
              "1332                        147.0                      0.776364   \n",
              "1333                         30.0                      2.093007   \n",
              "1334                        479.0                      0.202805   \n",
              "1335                         41.0                      1.982299   \n",
              "\n",
              "      gsat_BestAvgImprovement_CoeffVariance  gsat_FirstLocalMinRatio_Mean  \\\n",
              "0                                  0.591296                      1.141656   \n",
              "1                                  0.244951                      0.969015   \n",
              "2                                  0.824694                      0.935730   \n",
              "3                                  0.702251                      0.923327   \n",
              "4                                  0.209989                      0.855568   \n",
              "...                                     ...                           ...   \n",
              "1331                               0.256505                      0.837929   \n",
              "1332                               0.174557                      0.855907   \n",
              "1333                               0.117640                      1.000000   \n",
              "1334                               0.220101                      0.856952   \n",
              "1335                               0.141661                      0.995087   \n",
              "\n",
              "      gsat_FirstLocalMinRatio_CoeffVariance  gsat_EstACL_Mean     label  \n",
              "0                                  3.197217      9.240515e+09      gpmc  \n",
              "1                                  0.029930      5.401642e+03        d4  \n",
              "2                                  0.092714      3.561823e+04      gpmc  \n",
              "3                                  0.026977      1.268929e+05      gpmc  \n",
              "4                                  0.045802      1.647598e+04        d4  \n",
              "...                                     ...               ...       ...  \n",
              "1331                               0.066291      1.643030e+04  sharpsat  \n",
              "1332                               0.031698      3.816192e+04      gpmc  \n",
              "1333                               0.000000      3.168220e+03      gpmc  \n",
              "1334                               0.016884      6.236767e+05      gpmc  \n",
              "1335                               0.008575      6.045684e+03      gpmc  \n",
              "\n",
              "[1336 rows x 73 columns]"
            ],
            "text/html": [
              "\n",
              "  <div id=\"df-25b1096e-5f81-4f0d-ac7a-1cfbfb6f9c22\" class=\"colab-df-container\">\n",
              "    <div>\n",
              "<style scoped>\n",
              "    .dataframe tbody tr th:only-of-type {\n",
              "        vertical-align: middle;\n",
              "    }\n",
              "\n",
              "    .dataframe tbody tr th {\n",
              "        vertical-align: top;\n",
              "    }\n",
              "\n",
              "    .dataframe thead th {\n",
              "        text-align: right;\n",
              "    }\n",
              "</style>\n",
              "<table border=\"1\" class=\"dataframe\">\n",
              "  <thead>\n",
              "    <tr style=\"text-align: right;\">\n",
              "      <th></th>\n",
              "      <th>c</th>\n",
              "      <th>v</th>\n",
              "      <th>clauses_vars_ratio</th>\n",
              "      <th>vars_clauses_ratio</th>\n",
              "      <th>vcg_var_mean</th>\n",
              "      <th>vcg_var_coeff</th>\n",
              "      <th>vcg_var_min</th>\n",
              "      <th>vcg_var_max</th>\n",
              "      <th>vcg_var_entropy</th>\n",
              "      <th>vcg_clause_mean</th>\n",
              "      <th>...</th>\n",
              "      <th>gsat_FirstLocalMinStep_CoeffVariance</th>\n",
              "      <th>gsat_FirstLocalMinStep_Median</th>\n",
              "      <th>gsat_FirstLocalMinStep_Q.10</th>\n",
              "      <th>gsat_FirstLocalMinStep_Q.90</th>\n",
              "      <th>gsat_BestAvgImprovement_Mean</th>\n",
              "      <th>gsat_BestAvgImprovement_CoeffVariance</th>\n",
              "      <th>gsat_FirstLocalMinRatio_Mean</th>\n",
              "      <th>gsat_FirstLocalMinRatio_CoeffVariance</th>\n",
              "      <th>gsat_EstACL_Mean</th>\n",
              "      <th>label</th>\n",
              "    </tr>\n",
              "  </thead>\n",
              "  <tbody>\n",
              "    <tr>\n",
              "      <th>0</th>\n",
              "      <td>681.0</td>\n",
              "      <td>238.0</td>\n",
              "      <td>2.861345</td>\n",
              "      <td>0.349486</td>\n",
              "      <td>0.011143</td>\n",
              "      <td>0.905300</td>\n",
              "      <td>0.005874</td>\n",
              "      <td>0.111601</td>\n",
              "      <td>1.880038</td>\n",
              "      <td>0.011143</td>\n",
              "      <td>...</td>\n",
              "      <td>0.210148</td>\n",
              "      <td>50.0</td>\n",
              "      <td>42.0</td>\n",
              "      <td>57.0</td>\n",
              "      <td>0.954568</td>\n",
              "      <td>0.591296</td>\n",
              "      <td>1.141656</td>\n",
              "      <td>3.197217</td>\n",
              "      <td>9.240515e+09</td>\n",
              "      <td>gpmc</td>\n",
              "    </tr>\n",
              "    <tr>\n",
              "      <th>1</th>\n",
              "      <td>368.0</td>\n",
              "      <td>140.0</td>\n",
              "      <td>2.628571</td>\n",
              "      <td>0.380435</td>\n",
              "      <td>0.018012</td>\n",
              "      <td>0.510753</td>\n",
              "      <td>0.005435</td>\n",
              "      <td>0.054348</td>\n",
              "      <td>1.851609</td>\n",
              "      <td>0.018012</td>\n",
              "      <td>...</td>\n",
              "      <td>0.124438</td>\n",
              "      <td>34.0</td>\n",
              "      <td>29.0</td>\n",
              "      <td>40.0</td>\n",
              "      <td>1.693036</td>\n",
              "      <td>0.244951</td>\n",
              "      <td>0.969015</td>\n",
              "      <td>0.029930</td>\n",
              "      <td>5.401642e+03</td>\n",
              "      <td>d4</td>\n",
              "    </tr>\n",
              "    <tr>\n",
              "      <th>2</th>\n",
              "      <td>1935.0</td>\n",
              "      <td>1920.0</td>\n",
              "      <td>1.007812</td>\n",
              "      <td>0.992248</td>\n",
              "      <td>0.001760</td>\n",
              "      <td>1.723720</td>\n",
              "      <td>0.000000</td>\n",
              "      <td>0.012403</td>\n",
              "      <td>1.280404</td>\n",
              "      <td>0.001760</td>\n",
              "      <td>...</td>\n",
              "      <td>0.066708</td>\n",
              "      <td>102.0</td>\n",
              "      <td>94.0</td>\n",
              "      <td>111.0</td>\n",
              "      <td>0.398129</td>\n",
              "      <td>0.824694</td>\n",
              "      <td>0.935730</td>\n",
              "      <td>0.092714</td>\n",
              "      <td>3.561823e+04</td>\n",
              "      <td>gpmc</td>\n",
              "    </tr>\n",
              "    <tr>\n",
              "      <th>3</th>\n",
              "      <td>3452.0</td>\n",
              "      <td>2821.0</td>\n",
              "      <td>1.223680</td>\n",
              "      <td>0.817207</td>\n",
              "      <td>0.000968</td>\n",
              "      <td>1.436774</td>\n",
              "      <td>0.000290</td>\n",
              "      <td>0.006083</td>\n",
              "      <td>1.192878</td>\n",
              "      <td>0.000968</td>\n",
              "      <td>...</td>\n",
              "      <td>0.053628</td>\n",
              "      <td>192.0</td>\n",
              "      <td>179.0</td>\n",
              "      <td>205.0</td>\n",
              "      <td>0.247528</td>\n",
              "      <td>0.702251</td>\n",
              "      <td>0.923327</td>\n",
              "      <td>0.026977</td>\n",
              "      <td>1.268929e+05</td>\n",
              "      <td>gpmc</td>\n",
              "    </tr>\n",
              "    <tr>\n",
              "      <th>4</th>\n",
              "      <td>694.0</td>\n",
              "      <td>294.0</td>\n",
              "      <td>2.360544</td>\n",
              "      <td>0.423631</td>\n",
              "      <td>0.007656</td>\n",
              "      <td>0.493513</td>\n",
              "      <td>0.002882</td>\n",
              "      <td>0.040346</td>\n",
              "      <td>1.776102</td>\n",
              "      <td>0.007656</td>\n",
              "      <td>...</td>\n",
              "      <td>0.086841</td>\n",
              "      <td>72.0</td>\n",
              "      <td>64.0</td>\n",
              "      <td>80.0</td>\n",
              "      <td>0.822829</td>\n",
              "      <td>0.209989</td>\n",
              "      <td>0.855568</td>\n",
              "      <td>0.045802</td>\n",
              "      <td>1.647598e+04</td>\n",
              "      <td>d4</td>\n",
              "    </tr>\n",
              "    <tr>\n",
              "      <th>...</th>\n",
              "      <td>...</td>\n",
              "      <td>...</td>\n",
              "      <td>...</td>\n",
              "      <td>...</td>\n",
              "      <td>...</td>\n",
              "      <td>...</td>\n",
              "      <td>...</td>\n",
              "      <td>...</td>\n",
              "      <td>...</td>\n",
              "      <td>...</td>\n",
              "      <td>...</td>\n",
              "      <td>...</td>\n",
              "      <td>...</td>\n",
              "      <td>...</td>\n",
              "      <td>...</td>\n",
              "      <td>...</td>\n",
              "      <td>...</td>\n",
              "      <td>...</td>\n",
              "      <td>...</td>\n",
              "      <td>...</td>\n",
              "      <td>...</td>\n",
              "    </tr>\n",
              "    <tr>\n",
              "      <th>1331</th>\n",
              "      <td>949.0</td>\n",
              "      <td>351.0</td>\n",
              "      <td>2.703704</td>\n",
              "      <td>0.369863</td>\n",
              "      <td>0.006701</td>\n",
              "      <td>1.151888</td>\n",
              "      <td>0.002012</td>\n",
              "      <td>0.063380</td>\n",
              "      <td>1.857919</td>\n",
              "      <td>0.006701</td>\n",
              "      <td>...</td>\n",
              "      <td>0.079108</td>\n",
              "      <td>81.0</td>\n",
              "      <td>73.0</td>\n",
              "      <td>89.0</td>\n",
              "      <td>0.781888</td>\n",
              "      <td>0.256505</td>\n",
              "      <td>0.837929</td>\n",
              "      <td>0.066291</td>\n",
              "      <td>1.643030e+04</td>\n",
              "      <td>sharpsat</td>\n",
              "    </tr>\n",
              "    <tr>\n",
              "      <th>1332</th>\n",
              "      <td>1450.0</td>\n",
              "      <td>608.0</td>\n",
              "      <td>2.384868</td>\n",
              "      <td>0.419310</td>\n",
              "      <td>0.004427</td>\n",
              "      <td>1.552830</td>\n",
              "      <td>0.002408</td>\n",
              "      <td>0.161349</td>\n",
              "      <td>1.659495</td>\n",
              "      <td>0.004427</td>\n",
              "      <td>...</td>\n",
              "      <td>0.062664</td>\n",
              "      <td>136.0</td>\n",
              "      <td>125.0</td>\n",
              "      <td>147.0</td>\n",
              "      <td>0.776364</td>\n",
              "      <td>0.174557</td>\n",
              "      <td>0.855907</td>\n",
              "      <td>0.031698</td>\n",
              "      <td>3.816192e+04</td>\n",
              "      <td>gpmc</td>\n",
              "    </tr>\n",
              "    <tr>\n",
              "      <th>1333</th>\n",
              "      <td>250.0</td>\n",
              "      <td>100.0</td>\n",
              "      <td>2.500000</td>\n",
              "      <td>0.400000</td>\n",
              "      <td>0.026000</td>\n",
              "      <td>0.555766</td>\n",
              "      <td>0.000000</td>\n",
              "      <td>0.096000</td>\n",
              "      <td>1.751533</td>\n",
              "      <td>0.026000</td>\n",
              "      <td>...</td>\n",
              "      <td>0.140708</td>\n",
              "      <td>26.0</td>\n",
              "      <td>21.0</td>\n",
              "      <td>30.0</td>\n",
              "      <td>2.093007</td>\n",
              "      <td>0.117640</td>\n",
              "      <td>1.000000</td>\n",
              "      <td>0.000000</td>\n",
              "      <td>3.168220e+03</td>\n",
              "      <td>gpmc</td>\n",
              "    </tr>\n",
              "    <tr>\n",
              "      <th>1334</th>\n",
              "      <td>4949.0</td>\n",
              "      <td>3422.0</td>\n",
              "      <td>1.446230</td>\n",
              "      <td>0.691453</td>\n",
              "      <td>0.000764</td>\n",
              "      <td>0.770643</td>\n",
              "      <td>0.000202</td>\n",
              "      <td>0.004445</td>\n",
              "      <td>1.835041</td>\n",
              "      <td>0.000764</td>\n",
              "      <td>...</td>\n",
              "      <td>0.032571</td>\n",
              "      <td>461.0</td>\n",
              "      <td>441.0</td>\n",
              "      <td>479.0</td>\n",
              "      <td>0.202805</td>\n",
              "      <td>0.220101</td>\n",
              "      <td>0.856952</td>\n",
              "      <td>0.016884</td>\n",
              "      <td>6.236767e+05</td>\n",
              "      <td>gpmc</td>\n",
              "    </tr>\n",
              "    <tr>\n",
              "      <th>1335</th>\n",
              "      <td>280.0</td>\n",
              "      <td>120.0</td>\n",
              "      <td>2.333333</td>\n",
              "      <td>0.428571</td>\n",
              "      <td>0.018442</td>\n",
              "      <td>0.490373</td>\n",
              "      <td>0.000000</td>\n",
              "      <td>0.045198</td>\n",
              "      <td>1.773180</td>\n",
              "      <td>0.018442</td>\n",
              "      <td>...</td>\n",
              "      <td>0.120101</td>\n",
              "      <td>35.0</td>\n",
              "      <td>30.0</td>\n",
              "      <td>41.0</td>\n",
              "      <td>1.982299</td>\n",
              "      <td>0.141661</td>\n",
              "      <td>0.995087</td>\n",
              "      <td>0.008575</td>\n",
              "      <td>6.045684e+03</td>\n",
              "      <td>gpmc</td>\n",
              "    </tr>\n",
              "  </tbody>\n",
              "</table>\n",
              "<p>1336 rows × 73 columns</p>\n",
              "</div>\n",
              "    <div class=\"colab-df-buttons\">\n",
              "\n",
              "  <div class=\"colab-df-container\">\n",
              "    <button class=\"colab-df-convert\" onclick=\"convertToInteractive('df-25b1096e-5f81-4f0d-ac7a-1cfbfb6f9c22')\"\n",
              "            title=\"Convert this dataframe to an interactive table.\"\n",
              "            style=\"display:none;\">\n",
              "\n",
              "  <svg xmlns=\"http://www.w3.org/2000/svg\" height=\"24px\" viewBox=\"0 -960 960 960\">\n",
              "    <path d=\"M120-120v-720h720v720H120Zm60-500h600v-160H180v160Zm220 220h160v-160H400v160Zm0 220h160v-160H400v160ZM180-400h160v-160H180v160Zm440 0h160v-160H620v160ZM180-180h160v-160H180v160Zm440 0h160v-160H620v160Z\"/>\n",
              "  </svg>\n",
              "    </button>\n",
              "\n",
              "  <style>\n",
              "    .colab-df-container {\n",
              "      display:flex;\n",
              "      gap: 12px;\n",
              "    }\n",
              "\n",
              "    .colab-df-convert {\n",
              "      background-color: #E8F0FE;\n",
              "      border: none;\n",
              "      border-radius: 50%;\n",
              "      cursor: pointer;\n",
              "      display: none;\n",
              "      fill: #1967D2;\n",
              "      height: 32px;\n",
              "      padding: 0 0 0 0;\n",
              "      width: 32px;\n",
              "    }\n",
              "\n",
              "    .colab-df-convert:hover {\n",
              "      background-color: #E2EBFA;\n",
              "      box-shadow: 0px 1px 2px rgba(60, 64, 67, 0.3), 0px 1px 3px 1px rgba(60, 64, 67, 0.15);\n",
              "      fill: #174EA6;\n",
              "    }\n",
              "\n",
              "    .colab-df-buttons div {\n",
              "      margin-bottom: 4px;\n",
              "    }\n",
              "\n",
              "    [theme=dark] .colab-df-convert {\n",
              "      background-color: #3B4455;\n",
              "      fill: #D2E3FC;\n",
              "    }\n",
              "\n",
              "    [theme=dark] .colab-df-convert:hover {\n",
              "      background-color: #434B5C;\n",
              "      box-shadow: 0px 1px 3px 1px rgba(0, 0, 0, 0.15);\n",
              "      filter: drop-shadow(0px 1px 2px rgba(0, 0, 0, 0.3));\n",
              "      fill: #FFFFFF;\n",
              "    }\n",
              "  </style>\n",
              "\n",
              "    <script>\n",
              "      const buttonEl =\n",
              "        document.querySelector('#df-25b1096e-5f81-4f0d-ac7a-1cfbfb6f9c22 button.colab-df-convert');\n",
              "      buttonEl.style.display =\n",
              "        google.colab.kernel.accessAllowed ? 'block' : 'none';\n",
              "\n",
              "      async function convertToInteractive(key) {\n",
              "        const element = document.querySelector('#df-25b1096e-5f81-4f0d-ac7a-1cfbfb6f9c22');\n",
              "        const dataTable =\n",
              "          await google.colab.kernel.invokeFunction('convertToInteractive',\n",
              "                                                    [key], {});\n",
              "        if (!dataTable) return;\n",
              "\n",
              "        const docLinkHtml = 'Like what you see? Visit the ' +\n",
              "          '<a target=\"_blank\" href=https://colab.research.google.com/notebooks/data_table.ipynb>data table notebook</a>'\n",
              "          + ' to learn more about interactive tables.';\n",
              "        element.innerHTML = '';\n",
              "        dataTable['output_type'] = 'display_data';\n",
              "        await google.colab.output.renderOutput(dataTable, element);\n",
              "        const docLink = document.createElement('div');\n",
              "        docLink.innerHTML = docLinkHtml;\n",
              "        element.appendChild(docLink);\n",
              "      }\n",
              "    </script>\n",
              "  </div>\n",
              "\n",
              "\n",
              "<div id=\"df-8ea32591-dd1f-448c-9500-7f3633b0b1bb\">\n",
              "  <button class=\"colab-df-quickchart\" onclick=\"quickchart('df-8ea32591-dd1f-448c-9500-7f3633b0b1bb')\"\n",
              "            title=\"Suggest charts\"\n",
              "            style=\"display:none;\">\n",
              "\n",
              "<svg xmlns=\"http://www.w3.org/2000/svg\" height=\"24px\"viewBox=\"0 0 24 24\"\n",
              "     width=\"24px\">\n",
              "    <g>\n",
              "        <path d=\"M19 3H5c-1.1 0-2 .9-2 2v14c0 1.1.9 2 2 2h14c1.1 0 2-.9 2-2V5c0-1.1-.9-2-2-2zM9 17H7v-7h2v7zm4 0h-2V7h2v10zm4 0h-2v-4h2v4z\"/>\n",
              "    </g>\n",
              "</svg>\n",
              "  </button>\n",
              "\n",
              "<style>\n",
              "  .colab-df-quickchart {\n",
              "      --bg-color: #E8F0FE;\n",
              "      --fill-color: #1967D2;\n",
              "      --hover-bg-color: #E2EBFA;\n",
              "      --hover-fill-color: #174EA6;\n",
              "      --disabled-fill-color: #AAA;\n",
              "      --disabled-bg-color: #DDD;\n",
              "  }\n",
              "\n",
              "  [theme=dark] .colab-df-quickchart {\n",
              "      --bg-color: #3B4455;\n",
              "      --fill-color: #D2E3FC;\n",
              "      --hover-bg-color: #434B5C;\n",
              "      --hover-fill-color: #FFFFFF;\n",
              "      --disabled-bg-color: #3B4455;\n",
              "      --disabled-fill-color: #666;\n",
              "  }\n",
              "\n",
              "  .colab-df-quickchart {\n",
              "    background-color: var(--bg-color);\n",
              "    border: none;\n",
              "    border-radius: 50%;\n",
              "    cursor: pointer;\n",
              "    display: none;\n",
              "    fill: var(--fill-color);\n",
              "    height: 32px;\n",
              "    padding: 0;\n",
              "    width: 32px;\n",
              "  }\n",
              "\n",
              "  .colab-df-quickchart:hover {\n",
              "    background-color: var(--hover-bg-color);\n",
              "    box-shadow: 0 1px 2px rgba(60, 64, 67, 0.3), 0 1px 3px 1px rgba(60, 64, 67, 0.15);\n",
              "    fill: var(--button-hover-fill-color);\n",
              "  }\n",
              "\n",
              "  .colab-df-quickchart-complete:disabled,\n",
              "  .colab-df-quickchart-complete:disabled:hover {\n",
              "    background-color: var(--disabled-bg-color);\n",
              "    fill: var(--disabled-fill-color);\n",
              "    box-shadow: none;\n",
              "  }\n",
              "\n",
              "  .colab-df-spinner {\n",
              "    border: 2px solid var(--fill-color);\n",
              "    border-color: transparent;\n",
              "    border-bottom-color: var(--fill-color);\n",
              "    animation:\n",
              "      spin 1s steps(1) infinite;\n",
              "  }\n",
              "\n",
              "  @keyframes spin {\n",
              "    0% {\n",
              "      border-color: transparent;\n",
              "      border-bottom-color: var(--fill-color);\n",
              "      border-left-color: var(--fill-color);\n",
              "    }\n",
              "    20% {\n",
              "      border-color: transparent;\n",
              "      border-left-color: var(--fill-color);\n",
              "      border-top-color: var(--fill-color);\n",
              "    }\n",
              "    30% {\n",
              "      border-color: transparent;\n",
              "      border-left-color: var(--fill-color);\n",
              "      border-top-color: var(--fill-color);\n",
              "      border-right-color: var(--fill-color);\n",
              "    }\n",
              "    40% {\n",
              "      border-color: transparent;\n",
              "      border-right-color: var(--fill-color);\n",
              "      border-top-color: var(--fill-color);\n",
              "    }\n",
              "    60% {\n",
              "      border-color: transparent;\n",
              "      border-right-color: var(--fill-color);\n",
              "    }\n",
              "    80% {\n",
              "      border-color: transparent;\n",
              "      border-right-color: var(--fill-color);\n",
              "      border-bottom-color: var(--fill-color);\n",
              "    }\n",
              "    90% {\n",
              "      border-color: transparent;\n",
              "      border-bottom-color: var(--fill-color);\n",
              "    }\n",
              "  }\n",
              "</style>\n",
              "\n",
              "  <script>\n",
              "    async function quickchart(key) {\n",
              "      const quickchartButtonEl =\n",
              "        document.querySelector('#' + key + ' button');\n",
              "      quickchartButtonEl.disabled = true;  // To prevent multiple clicks.\n",
              "      quickchartButtonEl.classList.add('colab-df-spinner');\n",
              "      try {\n",
              "        const charts = await google.colab.kernel.invokeFunction(\n",
              "            'suggestCharts', [key], {});\n",
              "      } catch (error) {\n",
              "        console.error('Error during call to suggestCharts:', error);\n",
              "      }\n",
              "      quickchartButtonEl.classList.remove('colab-df-spinner');\n",
              "      quickchartButtonEl.classList.add('colab-df-quickchart-complete');\n",
              "    }\n",
              "    (() => {\n",
              "      let quickchartButtonEl =\n",
              "        document.querySelector('#df-8ea32591-dd1f-448c-9500-7f3633b0b1bb button');\n",
              "      quickchartButtonEl.style.display =\n",
              "        google.colab.kernel.accessAllowed ? 'block' : 'none';\n",
              "    })();\n",
              "  </script>\n",
              "</div>\n",
              "    </div>\n",
              "  </div>\n"
            ],
            "application/vnd.google.colaboratory.intrinsic+json": {
              "type": "dataframe",
              "variable_name": "df"
            }
          },
          "metadata": {},
          "execution_count": 36
        }
      ],
      "source": [
        "import pandas as pd\n",
        "\n",
        "df = pd.read_csv(\"https://github.com/andvise/DM_Assignment/blob/main/train_data.csv?raw=true\")\n",
        "df"
      ]
    },
    {
      "cell_type": "code",
      "execution_count": 37,
      "metadata": {
        "colab": {
          "base_uri": "https://localhost:8080/"
        },
        "id": "N8MCvTYTKw4Q",
        "outputId": "d0b9a956-528a-420b-8638-02c58059dda4"
      },
      "outputs": [
        {
          "output_type": "execute_result",
          "data": {
            "text/plain": [
              "label\n",
              "gpmc        921\n",
              "d4          168\n",
              "ganak       140\n",
              "addmc        55\n",
              "sharpsat     52\n",
              "Name: count, dtype: int64"
            ]
          },
          "metadata": {},
          "execution_count": 37
        }
      ],
      "source": [
        "# Label counts\n",
        "df['label'].value_counts()\n"
      ]
    },
    {
      "cell_type": "markdown",
      "metadata": {
        "id": "MTvkBPQvITf-"
      },
      "source": [
        "# Tasks\n",
        "\n",
        "## Basic models and evaluation (5 Marks)\n",
        "\n",
        "Using Scikit-learn, train and evaluate a k-NN classifier using 70% of the dataset from training and 30% for testing. For this part of the project, we are not interested in optimising the parameters; we just want to get an idea of the dataset."
      ]
    },
    {
      "cell_type": "code",
      "execution_count": 38,
      "metadata": {
        "id": "nfzjePXWXukY"
      },
      "outputs": [],
      "source": [
        "from sklearn import datasets\n",
        "from sklearn import neighbors\n",
        "from sklearn import model_selection\n",
        "from sklearn import metrics\n",
        "from sklearn.metrics import confusion_matrix\n",
        "import matplotlib.pyplot as plt\n",
        "\n",
        "\n",
        "from sklearn.preprocessing import MinMaxScaler\n",
        "from sklearn.decomposition import PCA\n",
        "\n",
        "from sklearn.pipeline import Pipeline\n",
        "from sklearn.model_selection import cross_val_score, train_test_split\n",
        "from sklearn.preprocessing import MinMaxScaler\n",
        "from sklearn.preprocessing import StandardScaler\n",
        "from sklearn.neighbors import KNeighborsClassifier\n",
        "import numpy as np\n",
        "import pandas as pd\n",
        "from sklearn.model_selection import StratifiedKFold\n",
        "from sklearn.model_selection import GridSearchCV\n",
        "from sklearn.neighbors import KNeighborsRegressor\n",
        "from sklearn.ensemble import RandomForestClassifier\n",
        "from sklearn.ensemble import GradientBoostingClassifier\n",
        "from sklearn.svm import SVC\n",
        "from sklearn.naive_bayes import GaussianNB\n",
        "\n",
        "from sklearn.model_selection import RandomizedSearchCV\n",
        "\n",
        "from sklearn.metrics import accuracy_score\n",
        "\n",
        "\n",
        "\n",
        "import warnings\n",
        "warnings.filterwarnings(\"ignore\")"
      ]
    },
    {
      "cell_type": "code",
      "execution_count": 39,
      "metadata": {
        "colab": {
          "base_uri": "https://localhost:8080/"
        },
        "id": "6iNUGJnkdHDG",
        "outputId": "9875edd7-3a46-46e2-80b5-e46cd08dd99e"
      },
      "outputs": [
        {
          "output_type": "execute_result",
          "data": {
            "text/plain": [
              "(1336, 72)"
            ]
          },
          "metadata": {},
          "execution_count": 39
        }
      ],
      "source": [
        "#Features and target variables\n",
        "labels=df['label']\n",
        "features=df.iloc[:,:-1]\n",
        "features.shape"
      ]
    },
    {
      "cell_type": "code",
      "execution_count": 40,
      "metadata": {
        "colab": {
          "base_uri": "https://localhost:8080/"
        },
        "id": "VicLCraJihSS",
        "outputId": "187d85a9-ebd7-473c-83f5-7409a438de91"
      },
      "outputs": [
        {
          "output_type": "stream",
          "name": "stdout",
          "text": [
            "False\n"
          ]
        }
      ],
      "source": [
        "#Check fro any null values\n",
        "null_values = df.isnull().any().any()\n",
        "print(null_values)"
      ]
    },
    {
      "cell_type": "code",
      "execution_count": 41,
      "metadata": {
        "colab": {
          "base_uri": "https://localhost:8080/",
          "height": 638
        },
        "id": "CfNttSFOedWU",
        "outputId": "2ed4d659-f8c2-4d58-cee5-af37bda79c3a"
      },
      "outputs": [
        {
          "output_type": "stream",
          "name": "stdout",
          "text": [
            "The Knn Classifier accuracy is: 71.0\n",
            "--------Misclassification table------------\n",
            "col_0     addmc  d4  ganak  gpmc\n",
            "label                           \n",
            "addmc        14   1      0     4\n",
            "d4            0  17      1    34\n",
            "ganak         0   5      9    25\n",
            "gpmc          2  16     14   243\n",
            "sharpsat      0   6      4     6\n"
          ]
        },
        {
          "output_type": "display_data",
          "data": {
            "text/plain": [
              "<Figure size 640x480 with 2 Axes>"
            ],
            "image/png": "[encoded data removed]"
          },
          "metadata": {}
        }
      ],
      "source": [
        "\"\"\"KNN classification with 5 nearest neighbors \"\"\"\n",
        "knn = neighbors.KNeighborsClassifier(n_neighbors = 5)\n",
        "\n",
        "#Train and Test Split (70-30)split\n",
        "train_features, test_features, train_labels, test_labels= model_selection.train_test_split(features, labels,test_size=0.3, random_state=0)\n",
        "\n",
        "#Train the model using train features and train labels\n",
        "knn.fit(train_features,train_labels)\n",
        "\n",
        "#Test the model using 30% of test features\n",
        "results=knn.predict(test_features)\n",
        "\n",
        "#calculate the accuracy based on the predicted labels and test labels\n",
        "print(\"The Knn Classifier accuracy is:\",round(metrics.accuracy_score(results,test_labels ),2)*100)\n",
        "\n",
        "#plot the confusion matrix to see which all are misclassified.\n",
        "print(\"--------Misclassification table------------\")\n",
        "print(pd.crosstab(test_labels,results))\n",
        "confusion_m = confusion_matrix(test_labels, results)\n",
        "\n",
        "# Plotting confusion matrix\n",
        "plt.imshow(confusion_m)\n",
        "plt.title('Confusion matrix')\n",
        "plt.colorbar()\n",
        "plt.xlabel('True label')\n",
        "plt.ylabel('Predicted label')\n",
        "plt.show()\n"
      ]
    },
    {
      "cell_type": "markdown",
      "metadata": {
        "id": "zADpr0f8IcGL"
      },
      "source": [
        "## Robust evaluation (10 Marks)\n",
        "\n",
        "In this section, we are interested in more rigorous techniques by implementing more sophisticated methods. Do your best to improve the k-NN classifier performances on this dataset.\n",
        "\n",
        "For instance, you could consider:\n",
        "* Hold-out and cross-validation.\n",
        "* Hyper-parameter tuning.\n",
        "* Feature selection.\n",
        "* Feature normalisation.\n",
        "* Etc.\n",
        "\n",
        "\n",
        "\n",
        "Your report should provide concrete information about your reasoning, everything should be well-explained.\n",
        "\n",
        "The key to geting good marks is to show that you evaluated different methods and that you correctly selected the configuration."
      ]
    },
    {
      "cell_type": "code",
      "source": [
        "\"\"\"Each features are checked for Outliers so that it won't influence the model to perform badly.\n",
        "The cutoff for outlier is 3. Intially the z-score of a feature is calculated and compared it with cutoff.\n",
        "Below rows shows each features outliers \"\""
      ],
      "metadata": {
        "id": "tSpJm9TMyV24"
      },
      "execution_count": null,
      "outputs": []
    },
    {
      "cell_type": "code",
      "execution_count": 42,
      "metadata": {
        "colab": {
          "base_uri": "https://localhost:8080/"
        },
        "id": "lVsAxQ7vR7us",
        "outputId": "6c21b02b-b38c-451b-93b2-c6c6a8bfeb7a"
      },
      "outputs": [
        {
          "output_type": "stream",
          "name": "stdout",
          "text": [
            "Rows with outliers:\n",
            "             c        v  clauses_vars_ratio  vars_clauses_ratio  vcg_var_mean  \\\n",
            "0        681.0    238.0            2.861345            0.349486      0.011143   \n",
            "3       3452.0   2821.0            1.223680            0.817207      0.000968   \n",
            "5     109882.0   9603.0           11.442466            0.087394      0.000023   \n",
            "12      3927.0   1249.0            3.144115            0.318054      0.002154   \n",
            "13     44404.0  17842.0            2.488734            0.401811      0.000128   \n",
            "...        ...      ...                 ...                 ...           ...   \n",
            "1326    8460.0   2669.0            3.169726            0.315485      0.000976   \n",
            "1328    1425.0   1212.0            1.175743            0.850526      0.002960   \n",
            "1330    2849.0   1111.0            2.564356            0.389961      0.002035   \n",
            "1333     250.0    100.0            2.500000            0.400000      0.026000   \n",
            "1334    4949.0   3422.0            1.446230            0.691453      0.000764   \n",
            "\n",
            "      vcg_var_coeff  vcg_var_min  vcg_var_max  vcg_var_entropy  \\\n",
            "0          0.905300     0.005874     0.111601         1.880038   \n",
            "3          1.436774     0.000290     0.006083         1.192878   \n",
            "5          8.231381     0.000000     0.004525         0.433626   \n",
            "12         1.687899     0.001019     0.115355         1.993697   \n",
            "13         4.040576     0.000045     0.065234         1.564359   \n",
            "...             ...          ...          ...              ...   \n",
            "1326       1.544182     0.000473     0.069740         1.818463   \n",
            "1328       1.564547     0.000000     0.016842         1.405942   \n",
            "1330       2.214919     0.000986     0.159231         1.898861   \n",
            "1333       0.555766     0.000000     0.096000         1.751533   \n",
            "1334       0.770643     0.000202     0.004445         1.835041   \n",
            "\n",
            "      vcg_clause_mean  ...  gsat_FirstLocalMinStep_Mean  \\\n",
            "0            0.011143  ...                    48.635000   \n",
            "3            0.000968  ...                   191.715561   \n",
            "5            0.000023  ...                  3576.000000   \n",
            "12           0.002154  ...                   162.698506   \n",
            "13           0.000128  ...                  4106.736842   \n",
            "...               ...  ...                          ...   \n",
            "1326         0.000976  ...                   446.274380   \n",
            "1328         0.002960  ...                    74.269139   \n",
            "1330         0.002035  ...                   162.818565   \n",
            "1333         0.026000  ...                    25.597700   \n",
            "1334         0.000764  ...                   460.461318   \n",
            "\n",
            "      gsat_FirstLocalMinStep_CoeffVariance  gsat_FirstLocalMinStep_Median  \\\n",
            "0                                 0.210148                           50.0   \n",
            "3                                 0.053628                          192.0   \n",
            "5                                 0.404086                         4079.5   \n",
            "12                                0.811742                          258.0   \n",
            "13                                0.010768                         4109.0   \n",
            "...                                    ...                            ...   \n",
            "1326                              0.535121                          566.0   \n",
            "1328                              0.072823                           74.0   \n",
            "1330                              0.804581                          255.0   \n",
            "1333                              0.140708                           26.0   \n",
            "1334                              0.032571                          461.0   \n",
            "\n",
            "      gsat_FirstLocalMinStep_Q.10  gsat_FirstLocalMinStep_Q.90  \\\n",
            "0                            42.0                         57.0   \n",
            "3                           179.0                        205.0   \n",
            "5                             0.0                       4102.0   \n",
            "12                            0.0                        281.0   \n",
            "13                         4036.0                       4165.0   \n",
            "...                           ...                          ...   \n",
            "1326                          0.0                        592.0   \n",
            "1328                         67.0                         81.0   \n",
            "1330                          0.0                        280.0   \n",
            "1333                         21.0                         30.0   \n",
            "1334                        441.0                        479.0   \n",
            "\n",
            "      gsat_BestAvgImprovement_Mean  gsat_BestAvgImprovement_CoeffVariance  \\\n",
            "0                         0.954568                               0.591296   \n",
            "3                         0.247528                               0.702251   \n",
            "5                         0.508812                               2.112785   \n",
            "12                        1.549097                               0.756724   \n",
            "13                        0.302629                               0.994577   \n",
            "...                            ...                                    ...   \n",
            "1326                      1.295354                               1.113829   \n",
            "1328                      0.591344                               0.657590   \n",
            "1330                      1.744293                               0.821961   \n",
            "1333                      2.093007                               0.117640   \n",
            "1334                      0.202805                               0.220101   \n",
            "\n",
            "      gsat_FirstLocalMinRatio_Mean  gsat_FirstLocalMinRatio_CoeffVariance  \\\n",
            "0                         1.141656                               3.197217   \n",
            "3                         0.923327                               0.026977   \n",
            "5                         1.005276                               0.027752   \n",
            "12                        1.795077                               4.070475   \n",
            "13                        0.816177                               0.042252   \n",
            "...                            ...                                    ...   \n",
            "1326                      1.577529                               1.134702   \n",
            "1328                      0.952557                               0.035349   \n",
            "1330                      2.075006                               1.161927   \n",
            "1333                      1.000000                               0.000000   \n",
            "1334                      0.856952                               0.016884   \n",
            "\n",
            "      gsat_EstACL_Mean  \n",
            "0         9.240515e+09  \n",
            "3         1.268929e+05  \n",
            "5         1.630628e+06  \n",
            "12       -1.770283e+12  \n",
            "13        2.650966e+07  \n",
            "...                ...  \n",
            "1326      5.347283e+05  \n",
            "1328      1.920497e+04  \n",
            "1330      9.134929e+04  \n",
            "1333      3.168220e+03  \n",
            "1334      6.236767e+05  \n",
            "\n",
            "[502 rows x 72 columns]\n"
          ]
        }
      ],
      "source": [
        "# Evaluating Z-scores\n",
        "mean_val=features.mean()\n",
        "std_val=features.std()\n",
        "z_scores = (features - mean_val)/std_val\n",
        "# cutoff to consider the datapoint as outlier is\n",
        "cutoff = 3\n",
        "# Identify outliers for each feature\n",
        "outliers = (np.abs(z_scores) > cutoff).any(axis=1)\n",
        "\n",
        "print(\"Rows with outliers:\")\n",
        "print(features[outliers])"
      ]
    },
    {
      "cell_type": "markdown",
      "metadata": {
        "id": "qGnBMPZIabhM"
      },
      "source": [
        "Reference: To evaluate Outliers\n",
        "https://www.analyticsvidhya.com/blog/2021/05/detecting-and-treating-outliers-treating-the-odd-one-out/"
      ]
    },
    {
      "cell_type": "markdown",
      "metadata": {
        "id": "OKU97xRnULfL"
      },
      "source": [
        "**FEATURE MINMAX WITH PCA**"
      ]
    },
    {
      "cell_type": "code",
      "execution_count": 43,
      "metadata": {
        "colab": {
          "base_uri": "https://localhost:8080/"
        },
        "id": "MmVh0zoBNWx7",
        "outputId": "a56ff4e2-b5bb-4e59-b03f-c16ffbd59c6b"
      },
      "outputs": [
        {
          "output_type": "stream",
          "name": "stdout",
          "text": [
            "Training set size  (935, 21)\n",
            "The best classifier is: KNeighborsClassifier()\n",
            "Its accuracy is: 73.15508021390373\n",
            "Its parameters are: {'n_neighbors': 5}\n"
          ]
        }
      ],
      "source": [
        "#using standard scalar and applying to both train and test features\n",
        "scaler = MinMaxScaler()\n",
        "train_features = scaler.fit_transform(train_features)\n",
        "test_features = scaler.transform(test_features)\n",
        "\n",
        "pca = PCA(n_components=21)\n",
        "train_features = pca.fit_transform(train_features)\n",
        "test_features = pca.transform(test_features)\n",
        "\n",
        "print(\"Training set size \", train_features.shape)\n",
        "\n",
        "knn = neighbors.KNeighborsClassifier()\n",
        "parameters = {'n_neighbors': [1, 3, 5, 7, 11]}\n",
        "\n",
        "clf = model_selection.GridSearchCV(knn, parameters)\n",
        "clf.fit( train_features, train_labels)\n",
        "\n",
        "print(\"The best classifier is:\", clf.best_estimator_)\n",
        "print(\"Its accuracy is:\",clf.best_score_*100)\n",
        "print(\"Its parameters are:\",clf.best_params_)"
      ]
    },
    {
      "cell_type": "markdown",
      "metadata": {
        "id": "Wa_RIntePJP4"
      },
      "source": [
        "**FEATURE NORMALIZING WITH PCA**"
      ]
    },
    {
      "cell_type": "code",
      "execution_count": 44,
      "metadata": {
        "colab": {
          "base_uri": "https://localhost:8080/"
        },
        "id": "D1QHEWeCOQSr",
        "outputId": "afef52e9-9a4a-424e-cfc1-f29ba1803b50"
      },
      "outputs": [
        {
          "output_type": "stream",
          "name": "stdout",
          "text": [
            "The best classifier is: KNeighborsClassifier(n_neighbors=3)\n",
            "Its accuracy is: 73.475935828877\n",
            "Its parameters are: {'n_neighbors': 3}\n"
          ]
        }
      ],
      "source": [
        "scaler = StandardScaler()\n",
        "train_features = scaler.fit_transform(train_features)\n",
        "test_features = scaler.transform(test_features)\n",
        "\n",
        "pca = PCA(n_components=21)\n",
        "train_features = pca.fit_transform(train_features)\n",
        "test_features = pca.transform(test_features)\n",
        "\n",
        "knn = neighbors.KNeighborsClassifier()\n",
        "parameters = {'n_neighbors': [1, 3, 5, 7, 11]}\n",
        "\n",
        "clf = model_selection.GridSearchCV(knn, parameters)\n",
        "clf.fit( train_features, train_labels)\n",
        "print(\"The best classifier is:\", clf.best_estimator_)\n",
        "print(\"Its accuracy is:\",clf.best_score_*100)\n",
        "print(\"Its parameters are:\",clf.best_params_)"
      ]
    },
    {
      "cell_type": "markdown",
      "metadata": {
        "id": "UjCBAV-YYKmo"
      },
      "source": [
        "**Since the dataset has one or more outliers in more than one features the selection of scaling is important.**\n",
        "**MinMax Scaling scales each features in the range of 0 and 1 and if the features are having outliers they are highly influential.**\n",
        "**Standard Scaling scales each feature to having mean of 0 and standard deviation of 1. They are less likely to infuence to the outliers.**\n",
        "\n",
        "**Above we have imlemented both MinMax and standard scaling to check the model performance for both the scalings and the result was quite similar for both.**\n",
        "\n",
        "**Therefore I select standard scaling for this project**"
      ]
    },
    {
      "cell_type": "markdown",
      "metadata": {
        "id": "288yDMrVcou9"
      },
      "source": [
        "**FEATURE REDUCTION**"
      ]
    },
    {
      "cell_type": "code",
      "execution_count": 45,
      "metadata": {
        "colab": {
          "base_uri": "https://localhost:8080/"
        },
        "id": "af7hses_cod6",
        "outputId": "d37e741d-cdb5-4300-c317-cc41136ffefd"
      },
      "outputs": [
        {
          "output_type": "stream",
          "name": "stdout",
          "text": [
            "PCA having variance more than 90% =  15\n",
            "PCA having variance more than 95% =  21\n",
            "PCA having variance more than 98% =  29\n"
          ]
        }
      ],
      "source": [
        "train_features, test_features, train_labels, test_labels= model_selection.train_test_split(features, labels,test_size=0.3, random_state=0)\n",
        "\n",
        "scaler = StandardScaler()\n",
        "train_features = scaler.fit_transform(train_features)\n",
        "test_features = scaler.transform(test_features)\n",
        "\n",
        "#using all component for PCA( 72 features)\n",
        "pca = PCA(n_components=72)\n",
        "pca.fit_transform(train_features)\n",
        "#print(pca.singular_values_)\n",
        "\n",
        "threshold_90=90\n",
        "variability=np.where(np.cumsum(pca.explained_variance_ratio_*100)>threshold_90)[0]\n",
        "print(\"PCA having variance more than 90% = \", variability[0])\n",
        "\n",
        "threshold_95=95\n",
        "variability=np.where(np.cumsum(pca.explained_variance_ratio_*100)>threshold_95)[0]\n",
        "print(\"PCA having variance more than 95% = \", variability[0])\n",
        "\n",
        "threshold_98=98\n",
        "variability=np.where(np.cumsum(pca.explained_variance_ratio_*100)>threshold_98)[0]\n",
        "print(\"PCA having variance more than 98% = \", variability[0])\n"
      ]
    },
    {
      "cell_type": "markdown",
      "metadata": {
        "id": "sX9dkNg8msYg"
      },
      "source": [
        "**The PCA having variance more than 98% is just 29 component out 72. The is basically dimension reduction method  which help us to identify which components collectively capture a portion of data variability. The Cut off range from 90%-95%/98% so we can set any component from the range 15-29**"
      ]
    },
    {
      "cell_type": "markdown",
      "metadata": {
        "id": "9S9eA2daSFzH"
      },
      "source": [
        "**PIPELINE WITH CROSS-VALIDATION**"
      ]
    },
    {
      "cell_type": "code",
      "execution_count": 46,
      "metadata": {
        "colab": {
          "base_uri": "https://localhost:8080/"
        },
        "id": "gcKcFs-lQNdp",
        "outputId": "82662952-33c3-4116-ee66-ca98752a5626"
      },
      "outputs": [
        {
          "output_type": "stream",
          "name": "stdout",
          "text": [
            "10 fold CV of KNN with PCA Train Accuracy for is: 71.66\n"
          ]
        }
      ],
      "source": [
        "# Split the data into training and testing sets\n",
        "train_features, test_features, train_labels, test_labels = train_test_split(features, labels, test_size=0.3, random_state=0)\n",
        "\n",
        "# Define the pipeline\n",
        "pipe_lr = Pipeline([('scl', StandardScaler()), ('dr', PCA(25)),('clf', KNeighborsClassifier(5))])\n",
        "pipe_lr_cv = Pipeline([('scl', StandardScaler()),('clf', KNeighborsClassifier(5))])\n",
        "# Perform cross-validation\n",
        "results = cross_val_score(pipe_lr, train_features, train_labels, cv=10)\n",
        "print(\"10 fold CV of KNN with PCA Train Accuracy for is:\",round(results.mean()*100,2))\n"
      ]
    },
    {
      "cell_type": "code",
      "execution_count": 47,
      "metadata": {
        "colab": {
          "base_uri": "https://localhost:8080/"
        },
        "id": "oYPggbMYWKNE",
        "outputId": "96f4e86e-9e49-45ca-f652-867ddb637070"
      },
      "outputs": [
        {
          "output_type": "stream",
          "name": "stdout",
          "text": [
            "Test Accuracy with PCA: 72.07\n"
          ]
        }
      ],
      "source": [
        "pipe_lr.fit(train_features,train_labels)\n",
        "predictedResults = pipe_lr.predict(test_features)\n",
        "\n",
        "metrics.accuracy_score(predictedResults, test_labels)\n",
        "print('Test Accuracy with PCA:',round( pipe_lr.score(test_features, test_labels)*100,2))"
      ]
    },
    {
      "cell_type": "markdown",
      "metadata": {
        "id": "L27HVeHhuRta"
      },
      "source": [
        "**Performed Pipeline method which helps to evaluate model performance. since its a preprocessing technique this perform scaling, dimension reduction and KNN with n=5 as nearest neighbor and then pass it on for cross validation, the 10 Cross validated train set is fitted and then the model is predicted.**"
      ]
    },
    {
      "cell_type": "markdown",
      "metadata": {
        "id": "ahDuLh153-FP"
      },
      "source": [
        "**HOLD-OUT CROSS VALIDATION**"
      ]
    },
    {
      "cell_type": "code",
      "execution_count": 48,
      "metadata": {
        "colab": {
          "base_uri": "https://localhost:8080/"
        },
        "id": "Kv3ddqAY39Co",
        "outputId": "e113d98c-1306-4792-aeba-8d1237e41902"
      },
      "outputs": [
        {
          "output_type": "stream",
          "name": "stdout",
          "text": [
            "10 fold Cross validation Train Accuracy for 90% of data is: 73.33\n",
            "Test Accuracy : 68.06\n",
            "10 fold Cross validation Train Accuracy for 10% of data is: 68.24\n",
            "Hold Out Test Accuracy : 75.0\n"
          ]
        }
      ],
      "source": [
        "features_hold = df.iloc[:-136,:-1]\n",
        "labels_hold = labels[:-136]\n",
        "\n",
        "feature_feat=df.iloc[1200:,:-1]\n",
        "labels_feat=labels[1200:]\n",
        "\n",
        "train_f, test_f, train_l, test_l = train_test_split(features_hold, labels_hold, test_size=0.3, random_state=0)\n",
        "\n",
        "\n",
        "# Define the pipeline with PCA and KNN\n",
        "pipe_lr = Pipeline([('scl', StandardScaler()), ('dr', PCA(25)), ('clf', KNeighborsClassifier(5))])\n",
        "\n",
        "results_90data = cross_val_score(pipe_lr, train_f, train_l, cv=10)\n",
        "print(\"10 fold Cross validation Train Accuracy for 90% of data is:\",round(results_90data.mean()*100,2))\n",
        "# Fit the model with PCA\n",
        "pipe_lr.fit(train_f, train_l)\n",
        "predictedResults = pipe_lr.predict(test_f)\n",
        "test_accuracy_pca = metrics.accuracy_score(predictedResults, test_l)\n",
        "print('Test Accuracy :', round(test_accuracy_pca * 100,2))\n",
        "\n",
        "#Hold out prediction\n",
        "results_10data = cross_val_score(pipe_lr, feature_feat, labels_feat, cv=10)\n",
        "print(\"10 fold Cross validation Train Accuracy for 10% of data is:\",round(results_10data.mean()*100,2))\n",
        "HoldpredictedResults = pipe_lr.predict(feature_feat)\n",
        "test_accuracy_pca = metrics.accuracy_score(HoldpredictedResults, labels_feat)\n",
        "print('Hold Out Test Accuracy :', round(test_accuracy_pca * 100,2))\n"
      ]
    },
    {
      "cell_type": "markdown",
      "metadata": {
        "id": "X_XRR3p7sJ33"
      },
      "source": [
        "**I have performed Hold out Cross validation by spliting the data into 90-10% initial and used 90% of data for train and test split (70%-30%) and did a crossvalidation for these dataset. Later for prediction I have used 10% of untouched data and found out the that Hold out is possible only when there is large dataset.**\n",
        "**since the train-test accuracy result are not that much of difference we cannot say its overfitting to get better judgement we need more dataset.**"
      ]
    },
    {
      "cell_type": "markdown",
      "metadata": {
        "id": "2bEgOIVsecfW"
      },
      "source": [
        "**HYPER-PARAMETER TUNING**"
      ]
    },
    {
      "cell_type": "code",
      "execution_count": 49,
      "metadata": {
        "colab": {
          "base_uri": "https://localhost:8080/"
        },
        "id": "wsFdFDAVebvi",
        "outputId": "cdc8c738-ec96-4d5d-ac6c-9ecad75d6f90"
      },
      "outputs": [
        {
          "output_type": "stream",
          "name": "stdout",
          "text": [
            "Best Parameters:  {'clf__n_neighbors': 11, 'clf__weights': 'distance', 'dr__n_components': 35}\n",
            "Best Score:  75.28711965225348\n",
            "Accuracy with best parameters :  74.06483790523691\n"
          ]
        }
      ],
      "source": [
        "# Split the data into training and testing sets\n",
        "train_features, test_features, train_labels, test_labels = train_test_split(features, labels, test_size=0.3, random_state=0)\n",
        "\n",
        "pipe_hp = Pipeline([('scl', StandardScaler()), ('dr', PCA()), ('clf', KNeighborsClassifier())])\n",
        "\n",
        "parameters={\"dr__n_components\":[15,20,25,30,35],\n",
        "            \"clf__n_neighbors\": [3, 5, 7, 9, 11],\n",
        "            \"clf__weights\": ['uniform', 'distance']}\n",
        "\n",
        "#performing grid search\n",
        "grid=GridSearchCV(pipe_hp,parameters,scoring='accuracy',cv=10)\n",
        "grid.fit(train_features,train_labels)\n",
        "\n",
        "#finding best parameter and best scores\n",
        "print(\"Best Parameters: \",grid.best_params_)\n",
        "print(\"Best Score: \",grid.best_score_*100)\n",
        "\n",
        "pipe_hp.set_params(**grid.best_params_)\n",
        "pipe_hp.fit(train_features,train_labels)\n",
        "train_accuracy = accuracy_score(train_labels, pipe_hp.predict(train_features)) * 100\n",
        "\n",
        "print(\"Accuracy with best parameters : \",pipe_hp.score(test_features, test_labels)*100)"
      ]
    },
    {
      "cell_type": "markdown",
      "metadata": {
        "id": "bZ0dTauixbXk"
      },
      "source": [
        " **Hyper-parameter tuning using Grid search along with cross validation provides optimal set of hyperparameter for KNN Classifier.** **It is performed by exploring hyper space and selecting best parameters and accuracy score by evaluating each set of hyperparameters and performs crossvalidation for each set and calculate best score out of that particular models.**"
      ]
    },
    {
      "cell_type": "markdown",
      "metadata": {
        "id": "FYoMg0EZIrNd"
      },
      "source": [
        "## New classifier (10 Marks)\n",
        "\n",
        "Replicate the previous task for a classifier different than K-NN and decision trees. Briefly describe your choice.\n",
        "Try to create the best model for the given dataset.\n",
        "\n",
        "\n",
        "\n",
        "\n"
      ]
    },
    {
      "cell_type": "markdown",
      "metadata": {
        "id": "XPrJdW3YJXbb"
      },
      "source": [
        "# **Naive Bayes Classifer**"
      ]
    },
    {
      "cell_type": "code",
      "execution_count": 50,
      "metadata": {
        "colab": {
          "base_uri": "https://localhost:8080/"
        },
        "id": "eFCEHITA3SM8",
        "outputId": "7a3b1a8d-08c8-4d65-fdec-57509b43c691"
      },
      "outputs": [
        {
          "output_type": "stream",
          "name": "stdout",
          "text": [
            "Naives Bayes with PCA Train accuracy for 10 fold CV : 54.751773049645394\n",
            "\n",
            "Accuracy Naives Bayes with PCA: 54.3640897755611\n",
            "\n"
          ]
        }
      ],
      "source": [
        "# Split the data into training and testing sets\n",
        "train_features, test_features, train_labels, test_labels = train_test_split(features, labels, test_size=0.3, random_state=0)\n",
        "\n",
        "\n",
        "pipe_grad_pca = Pipeline([('scl', StandardScaler()), ('dr', PCA(25)), ('clf', GaussianNB())])\n",
        "\n",
        "Boost_cv_train = cross_val_score(pipe_grad_pca, train_features, train_labels.values,cv=10)\n",
        "print('Naives Bayes with PCA Train accuracy for 10 fold CV :',np.mean(Boost_cv_train)*100)\n",
        "print()\n",
        "\n",
        "pipe_grad_pca.fit(train_features,train_labels.values)\n",
        "print(\"Accuracy Naives Bayes with PCA:\",pipe_grad_pca.score(test_features,test_labels)*100)\n",
        "print()\n",
        "\n"
      ]
    },
    {
      "cell_type": "markdown",
      "metadata": {
        "id": "rLH_bG90JRzq"
      },
      "source": [
        "# **Gradient Boosting Classifier**"
      ]
    },
    {
      "cell_type": "code",
      "execution_count": 57,
      "metadata": {
        "colab": {
          "base_uri": "https://localhost:8080/"
        },
        "id": "bVvoRha2UzuW",
        "outputId": "87c18178-9fb1-4efb-f2c2-c07ae00213ca"
      },
      "outputs": [
        {
          "output_type": "stream",
          "name": "stdout",
          "text": [
            "Gradient Boosting with PCA Train accuracy for 10 fold CV : 66.8091168091168\n",
            "\n",
            "Accuracy Gradient Boosting with PCA: 71.64179104477611\n",
            "\n"
          ]
        }
      ],
      "source": [
        "# Split the data into training and testing sets\n",
        "train_features, test_features, train_labels, test_labels = train_test_split(features, labels, test_size=0.2, random_state=0)\n",
        "\n",
        "\n",
        "pipe_grad_pca = Pipeline([('scl', StandardScaler()), ('dr', PCA(25)), ('clf', GradientBoostingClassifier())])\n",
        "\n",
        "Boost_cv_train = cross_val_score(pipe_grad_pca, train_features, train_labels.values,cv=10)\n",
        "print('Gradient Boosting with PCA Train accuracy for 10 fold CV :',np.mean(Boost_cv_train)*100)\n",
        "print()\n",
        "\n",
        "pipe_grad_pca.fit(train_features,train_labels.values)\n",
        "print(\"Accuracy Gradient Boosting with PCA:\",pipe_grad_pca.score(test_features,test_labels)*100)\n",
        "print()\n",
        "\n"
      ]
    },
    {
      "cell_type": "markdown",
      "metadata": {
        "id": "zSw0j7cfJNyD"
      },
      "source": [
        "# **Support Vector Machine**"
      ]
    },
    {
      "cell_type": "code",
      "execution_count": 58,
      "metadata": {
        "colab": {
          "base_uri": "https://localhost:8080/"
        },
        "id": "VFw_rJGZU8X9",
        "outputId": "e57c577a-457d-4d39-8387-eb2f0f24d057"
      },
      "outputs": [
        {
          "output_type": "stream",
          "name": "stdout",
          "text": [
            "Support Vector with PCA Train accuracy for 10 fold CV : 72.22826086956522\n",
            "\n",
            "Support Vector for test Accuracy with PCA: 69.3069306930693\n",
            "\n"
          ]
        }
      ],
      "source": [
        "# Split the data into training and testing sets\n",
        "train_features, test_features, train_labels, test_labels = train_test_split(features, labels, test_size=0.3, random_state=0)\n",
        "\n",
        "pipe_grad_pca = Pipeline([('scl', StandardScaler()), ('dr', PCA(25)), ('clf', SVC())])\n",
        "\n",
        "Boost_cv_train = cross_val_score(pipe_grad_pca, train_features, train_labels.values,cv=10)\n",
        "print('Support Vector with PCA Train accuracy for 10 fold CV :',np.mean(Boost_cv_train)*100)\n",
        "print()\n",
        "\n",
        "pipe_grad_pca.fit(train_features,train_labels.values)\n",
        "print(\"Support Vector for test Accuracy with PCA:\",pipe_grad_pca.score(test_features,test_labels)*100)\n",
        "print()\n",
        "\n"
      ]
    },
    {
      "cell_type": "markdown",
      "metadata": {
        "id": "b7MYsrPsJIty"
      },
      "source": [
        "# **Random Forest**"
      ]
    },
    {
      "cell_type": "code",
      "execution_count": 53,
      "metadata": {
        "colab": {
          "base_uri": "https://localhost:8080/"
        },
        "id": "aYwsd3igJFBm",
        "outputId": "ceb8215c-7cda-4f36-e242-4aa8be0797bb"
      },
      "outputs": [
        {
          "output_type": "stream",
          "name": "stdout",
          "text": [
            "Accuracy with best parameters :  76.11940298507463\n"
          ]
        }
      ],
      "source": [
        "train_features, test_features, train_labels, test_labels = train_test_split(features, labels, test_size=0.2, random_state=0)\n",
        "\n",
        "\n",
        "pipe_lr = Pipeline( [('scl',StandardScaler()),('clf',RandomForestClassifier())])\n",
        "# Create the grid search object which will find the best hyperparameter values based on validation error\n",
        "parameters = {\n",
        "    \"clf__n_estimators\": [100,150, 200],\n",
        "    \"clf__criterion\": ['gini', 'entropy'],\n",
        "    \"clf__max_depth\": [1, 5, 7],\n",
        "    \"clf__min_samples_leaf\": [2,6,8],\n",
        "    \"clf__min_samples_split\":[2,4,5]\n",
        "\n",
        "}\n",
        "stratified=StratifiedKFold(n_splits=10)\n",
        "rid=GridSearchCV(pipe_lr,parameters,cv=stratified)\n",
        "rid.fit(train_features,train_labels)\n",
        "#print(\"Best Parameters: \",rid.best_params_)\n",
        "#print(\"Best Score: \",rid.best_score_*100)\n",
        "bestmodel=rid.best_estimator_\n",
        "\n",
        "print(\"Accuracy with best parameters : \",bestmodel.score(test_features, test_labels)*100)\n"
      ]
    },
    {
      "cell_type": "code",
      "source": [
        "print(\"Accuracy with best parameters : \",bestmodel.score(train_features, train_labels)*100)"
      ],
      "metadata": {
        "colab": {
          "base_uri": "https://localhost:8080/"
        },
        "id": "cWcYZ3M5ieFC",
        "outputId": "8d48e0fb-aaaf-44f6-8d50-9a5594bb9d36"
      },
      "execution_count": 54,
      "outputs": [
        {
          "output_type": "stream",
          "name": "stdout",
          "text": [
            "Accuracy with best parameters :  89.32584269662921\n"
          ]
        }
      ]
    },
    {
      "cell_type": "markdown",
      "metadata": {
        "id": "DwJqXgsN5MTh"
      },
      "source": [
        "**I have performed 4 different model**\n",
        "1. Naive Bayes Classifier\n",
        "2. Gradient Boosting\n",
        "3. Support Vector Machine\n",
        "4. Random Forest\n",
        "**Out of these I Found that Gradient Boosting, SVM and Random Forest perform better with accuracy more than 70% and are not overfitting.**\n",
        "**For Random Forest I have not used PCA since it might cause too much information loss also i have split the train test split as 80%-20%and performed few hyper parameters changes such as  Pruning and estimators along with Stratified Cross validation which will optimize the RF and provides the best result.**\n",
        "\n",
        "**The Best model for me is Random Forest which has showed better result in predicting the labels overall.**\n"
      ]
    },
    {
      "cell_type": "code",
      "execution_count": 55,
      "metadata": {
        "colab": {
          "base_uri": "https://localhost:8080/"
        },
        "id": "QRJXrY2hI32F",
        "outputId": "a153e3ff-10c3-4a43-f69e-c401d132dee5"
      },
      "outputs": [
        {
          "output_type": "execute_result",
          "data": {
            "text/plain": [
              "['RANDOMSTRATIFIED.joblib']"
            ]
          },
          "metadata": {},
          "execution_count": 55
        }
      ],
      "source": [
        "from joblib import dump,load\n",
        "dump(bestmodel,'RANDOMSTRATIFIED.joblib')"
      ]
    },
    {
      "cell_type": "markdown",
      "metadata": {
        "id": "Q01BjiiCJTR4"
      },
      "source": [
        "# <font color=\"blue\">Testing part - Not needed for CS3033</font>\n",
        "\n",
        "Save your best model into your GitHub. And create a single code cell that loads it and evaluates it on the following test dataset:\n",
        "https://github.com/andvise/DM_Assignment/blob/main/test_data.csv\n",
        "\n",
        "We will cover this part in a Lab session.\n",
        "\n",
        "I should be able to run the code cell independently, load all the libraries you need as well.\n",
        "\n",
        "This link currently contains a sample of the training set. The real test set will be released after the submission."
      ]
    },
    {
      "cell_type": "code",
      "execution_count": 1,
      "metadata": {
        "colab": {
          "base_uri": "https://localhost:8080/"
        },
        "id": "IWx4lyuQI929",
        "outputId": "e788d83c-2866-43fa-b83a-584f3fc86465"
      },
      "outputs": [
        {
          "output_type": "stream",
          "name": "stdout",
          "text": [
            "The RF bestmodel based Accuracy is: 84.0\n"
          ]
        }
      ],
      "source": [
        "from joblib import dump, load\n",
        "from io import BytesIO\n",
        "import requests\n",
        "import pandas as pd\n",
        "\n",
        "# INSERT YOUR MODEL'S URL\n",
        "mLink = 'https://github.com/BharathisharaghavendraRao/Random-Forest/raw/main/RANDOMSTRATIFIED.joblib'\n",
        "mfile = BytesIO(requests.get(mLink).content)\n",
        "model = load(mfile)\n",
        "\n",
        "df = pd.read_csv(\"https://raw.githubusercontent.com/andvise/DM_Assignment/main/test_data.csv\")\n",
        "labels=df['label']\n",
        "features=df.iloc[:,:-1]\n",
        "\n",
        "print(\"The RF bestmodel based Accuracy is:\",round(model.score(features,labels),2)*100)\n",
        "\n",
        "# Your code here"
      ]
    }
  ],
  "metadata": {
    "colab": {
      "provenance": []
    },
    "kernelspec": {
      "display_name": "Python 3",
      "name": "python3"
    },
    "language_info": {
      "name": "python"
    }
  },
  "nbformat": 4,
  "nbformat_minor": 0
}